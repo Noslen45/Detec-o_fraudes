{
 "cells": [
  {
   "cell_type": "markdown",
   "id": "52e43246",
   "metadata": {},
   "source": [
    "# Importando bibliotecas necessárias"
   ]
  },
  {
   "cell_type": "code",
   "execution_count": 2,
   "id": "c265f307",
   "metadata": {},
   "outputs": [],
   "source": [
    "import pandas as pd\n",
    "import matplotlib.pyplot as plt\n",
    "import numpy as np\n",
    "from sklearn.model_selection import train_test_split # para dividir o dataset em test e train\n",
    "from sklearn.ensemble import ExtraTreesClassifier\n",
    "from sklearn.metrics import accuracy_score\n",
    "from sklearn.metrics import recall_score\n",
    "from sklearn.metrics import f1_score\n",
    "from sklearn.model_selection import cross_val_score"
   ]
  },
  {
   "cell_type": "code",
   "execution_count": 3,
   "id": "4b109c24",
   "metadata": {},
   "outputs": [],
   "source": [
    "df = pd.read_csv('creditcard.csv')"
   ]
  },
  {
   "cell_type": "code",
   "execution_count": 4,
   "id": "20f38a9f",
   "metadata": {},
   "outputs": [
    {
     "data": {
      "text/html": [
       "<div>\n",
       "<style scoped>\n",
       "    .dataframe tbody tr th:only-of-type {\n",
       "        vertical-align: middle;\n",
       "    }\n",
       "\n",
       "    .dataframe tbody tr th {\n",
       "        vertical-align: top;\n",
       "    }\n",
       "\n",
       "    .dataframe thead th {\n",
       "        text-align: right;\n",
       "    }\n",
       "</style>\n",
       "<table border=\"1\" class=\"dataframe\">\n",
       "  <thead>\n",
       "    <tr style=\"text-align: right;\">\n",
       "      <th></th>\n",
       "      <th>Time</th>\n",
       "      <th>V1</th>\n",
       "      <th>V2</th>\n",
       "      <th>V3</th>\n",
       "      <th>V4</th>\n",
       "      <th>V5</th>\n",
       "      <th>V6</th>\n",
       "      <th>V7</th>\n",
       "      <th>V8</th>\n",
       "      <th>V9</th>\n",
       "      <th>...</th>\n",
       "      <th>V21</th>\n",
       "      <th>V22</th>\n",
       "      <th>V23</th>\n",
       "      <th>V24</th>\n",
       "      <th>V25</th>\n",
       "      <th>V26</th>\n",
       "      <th>V27</th>\n",
       "      <th>V28</th>\n",
       "      <th>Amount</th>\n",
       "      <th>Class</th>\n",
       "    </tr>\n",
       "  </thead>\n",
       "  <tbody>\n",
       "    <tr>\n",
       "      <th>0</th>\n",
       "      <td>0.0</td>\n",
       "      <td>-1.359807</td>\n",
       "      <td>-0.072781</td>\n",
       "      <td>2.536347</td>\n",
       "      <td>1.378155</td>\n",
       "      <td>-0.338321</td>\n",
       "      <td>0.462388</td>\n",
       "      <td>0.239599</td>\n",
       "      <td>0.098698</td>\n",
       "      <td>0.363787</td>\n",
       "      <td>...</td>\n",
       "      <td>-0.018307</td>\n",
       "      <td>0.277838</td>\n",
       "      <td>-0.110474</td>\n",
       "      <td>0.066928</td>\n",
       "      <td>0.128539</td>\n",
       "      <td>-0.189115</td>\n",
       "      <td>0.133558</td>\n",
       "      <td>-0.021053</td>\n",
       "      <td>149.62</td>\n",
       "      <td>0</td>\n",
       "    </tr>\n",
       "    <tr>\n",
       "      <th>1</th>\n",
       "      <td>0.0</td>\n",
       "      <td>1.191857</td>\n",
       "      <td>0.266151</td>\n",
       "      <td>0.166480</td>\n",
       "      <td>0.448154</td>\n",
       "      <td>0.060018</td>\n",
       "      <td>-0.082361</td>\n",
       "      <td>-0.078803</td>\n",
       "      <td>0.085102</td>\n",
       "      <td>-0.255425</td>\n",
       "      <td>...</td>\n",
       "      <td>-0.225775</td>\n",
       "      <td>-0.638672</td>\n",
       "      <td>0.101288</td>\n",
       "      <td>-0.339846</td>\n",
       "      <td>0.167170</td>\n",
       "      <td>0.125895</td>\n",
       "      <td>-0.008983</td>\n",
       "      <td>0.014724</td>\n",
       "      <td>2.69</td>\n",
       "      <td>0</td>\n",
       "    </tr>\n",
       "    <tr>\n",
       "      <th>2</th>\n",
       "      <td>1.0</td>\n",
       "      <td>-1.358354</td>\n",
       "      <td>-1.340163</td>\n",
       "      <td>1.773209</td>\n",
       "      <td>0.379780</td>\n",
       "      <td>-0.503198</td>\n",
       "      <td>1.800499</td>\n",
       "      <td>0.791461</td>\n",
       "      <td>0.247676</td>\n",
       "      <td>-1.514654</td>\n",
       "      <td>...</td>\n",
       "      <td>0.247998</td>\n",
       "      <td>0.771679</td>\n",
       "      <td>0.909412</td>\n",
       "      <td>-0.689281</td>\n",
       "      <td>-0.327642</td>\n",
       "      <td>-0.139097</td>\n",
       "      <td>-0.055353</td>\n",
       "      <td>-0.059752</td>\n",
       "      <td>378.66</td>\n",
       "      <td>0</td>\n",
       "    </tr>\n",
       "    <tr>\n",
       "      <th>3</th>\n",
       "      <td>1.0</td>\n",
       "      <td>-0.966272</td>\n",
       "      <td>-0.185226</td>\n",
       "      <td>1.792993</td>\n",
       "      <td>-0.863291</td>\n",
       "      <td>-0.010309</td>\n",
       "      <td>1.247203</td>\n",
       "      <td>0.237609</td>\n",
       "      <td>0.377436</td>\n",
       "      <td>-1.387024</td>\n",
       "      <td>...</td>\n",
       "      <td>-0.108300</td>\n",
       "      <td>0.005274</td>\n",
       "      <td>-0.190321</td>\n",
       "      <td>-1.175575</td>\n",
       "      <td>0.647376</td>\n",
       "      <td>-0.221929</td>\n",
       "      <td>0.062723</td>\n",
       "      <td>0.061458</td>\n",
       "      <td>123.50</td>\n",
       "      <td>0</td>\n",
       "    </tr>\n",
       "    <tr>\n",
       "      <th>4</th>\n",
       "      <td>2.0</td>\n",
       "      <td>-1.158233</td>\n",
       "      <td>0.877737</td>\n",
       "      <td>1.548718</td>\n",
       "      <td>0.403034</td>\n",
       "      <td>-0.407193</td>\n",
       "      <td>0.095921</td>\n",
       "      <td>0.592941</td>\n",
       "      <td>-0.270533</td>\n",
       "      <td>0.817739</td>\n",
       "      <td>...</td>\n",
       "      <td>-0.009431</td>\n",
       "      <td>0.798278</td>\n",
       "      <td>-0.137458</td>\n",
       "      <td>0.141267</td>\n",
       "      <td>-0.206010</td>\n",
       "      <td>0.502292</td>\n",
       "      <td>0.219422</td>\n",
       "      <td>0.215153</td>\n",
       "      <td>69.99</td>\n",
       "      <td>0</td>\n",
       "    </tr>\n",
       "  </tbody>\n",
       "</table>\n",
       "<p>5 rows × 31 columns</p>\n",
       "</div>"
      ],
      "text/plain": [
       "   Time        V1        V2        V3        V4        V5        V6        V7  \\\n",
       "0   0.0 -1.359807 -0.072781  2.536347  1.378155 -0.338321  0.462388  0.239599   \n",
       "1   0.0  1.191857  0.266151  0.166480  0.448154  0.060018 -0.082361 -0.078803   \n",
       "2   1.0 -1.358354 -1.340163  1.773209  0.379780 -0.503198  1.800499  0.791461   \n",
       "3   1.0 -0.966272 -0.185226  1.792993 -0.863291 -0.010309  1.247203  0.237609   \n",
       "4   2.0 -1.158233  0.877737  1.548718  0.403034 -0.407193  0.095921  0.592941   \n",
       "\n",
       "         V8        V9  ...       V21       V22       V23       V24       V25  \\\n",
       "0  0.098698  0.363787  ... -0.018307  0.277838 -0.110474  0.066928  0.128539   \n",
       "1  0.085102 -0.255425  ... -0.225775 -0.638672  0.101288 -0.339846  0.167170   \n",
       "2  0.247676 -1.514654  ...  0.247998  0.771679  0.909412 -0.689281 -0.327642   \n",
       "3  0.377436 -1.387024  ... -0.108300  0.005274 -0.190321 -1.175575  0.647376   \n",
       "4 -0.270533  0.817739  ... -0.009431  0.798278 -0.137458  0.141267 -0.206010   \n",
       "\n",
       "        V26       V27       V28  Amount  Class  \n",
       "0 -0.189115  0.133558 -0.021053  149.62      0  \n",
       "1  0.125895 -0.008983  0.014724    2.69      0  \n",
       "2 -0.139097 -0.055353 -0.059752  378.66      0  \n",
       "3 -0.221929  0.062723  0.061458  123.50      0  \n",
       "4  0.502292  0.219422  0.215153   69.99      0  \n",
       "\n",
       "[5 rows x 31 columns]"
      ]
     },
     "execution_count": 4,
     "metadata": {},
     "output_type": "execute_result"
    }
   ],
   "source": [
    "df.head()"
   ]
  },
  {
   "cell_type": "code",
   "execution_count": 6,
   "id": "fd4aef99",
   "metadata": {},
   "outputs": [
    {
     "data": {
      "text/html": [
       "<div>\n",
       "<style scoped>\n",
       "    .dataframe tbody tr th:only-of-type {\n",
       "        vertical-align: middle;\n",
       "    }\n",
       "\n",
       "    .dataframe tbody tr th {\n",
       "        vertical-align: top;\n",
       "    }\n",
       "\n",
       "    .dataframe thead th {\n",
       "        text-align: right;\n",
       "    }\n",
       "</style>\n",
       "<table border=\"1\" class=\"dataframe\">\n",
       "  <thead>\n",
       "    <tr style=\"text-align: right;\">\n",
       "      <th></th>\n",
       "      <th>Time</th>\n",
       "      <th>V1</th>\n",
       "      <th>V2</th>\n",
       "      <th>V3</th>\n",
       "      <th>V4</th>\n",
       "      <th>V5</th>\n",
       "      <th>V6</th>\n",
       "      <th>V7</th>\n",
       "      <th>V8</th>\n",
       "      <th>V9</th>\n",
       "      <th>...</th>\n",
       "      <th>V20</th>\n",
       "      <th>V21</th>\n",
       "      <th>V22</th>\n",
       "      <th>V23</th>\n",
       "      <th>V24</th>\n",
       "      <th>V25</th>\n",
       "      <th>V26</th>\n",
       "      <th>V27</th>\n",
       "      <th>V28</th>\n",
       "      <th>Amount</th>\n",
       "    </tr>\n",
       "    <tr>\n",
       "      <th>Class</th>\n",
       "      <th></th>\n",
       "      <th></th>\n",
       "      <th></th>\n",
       "      <th></th>\n",
       "      <th></th>\n",
       "      <th></th>\n",
       "      <th></th>\n",
       "      <th></th>\n",
       "      <th></th>\n",
       "      <th></th>\n",
       "      <th></th>\n",
       "      <th></th>\n",
       "      <th></th>\n",
       "      <th></th>\n",
       "      <th></th>\n",
       "      <th></th>\n",
       "      <th></th>\n",
       "      <th></th>\n",
       "      <th></th>\n",
       "      <th></th>\n",
       "      <th></th>\n",
       "    </tr>\n",
       "  </thead>\n",
       "  <tbody>\n",
       "    <tr>\n",
       "      <th>0</th>\n",
       "      <td>284315</td>\n",
       "      <td>284315</td>\n",
       "      <td>284315</td>\n",
       "      <td>284315</td>\n",
       "      <td>284315</td>\n",
       "      <td>284315</td>\n",
       "      <td>284315</td>\n",
       "      <td>284315</td>\n",
       "      <td>284315</td>\n",
       "      <td>284315</td>\n",
       "      <td>...</td>\n",
       "      <td>284315</td>\n",
       "      <td>284315</td>\n",
       "      <td>284315</td>\n",
       "      <td>284315</td>\n",
       "      <td>284315</td>\n",
       "      <td>284315</td>\n",
       "      <td>284315</td>\n",
       "      <td>284315</td>\n",
       "      <td>284315</td>\n",
       "      <td>284315</td>\n",
       "    </tr>\n",
       "    <tr>\n",
       "      <th>1</th>\n",
       "      <td>492</td>\n",
       "      <td>492</td>\n",
       "      <td>492</td>\n",
       "      <td>492</td>\n",
       "      <td>492</td>\n",
       "      <td>492</td>\n",
       "      <td>492</td>\n",
       "      <td>492</td>\n",
       "      <td>492</td>\n",
       "      <td>492</td>\n",
       "      <td>...</td>\n",
       "      <td>492</td>\n",
       "      <td>492</td>\n",
       "      <td>492</td>\n",
       "      <td>492</td>\n",
       "      <td>492</td>\n",
       "      <td>492</td>\n",
       "      <td>492</td>\n",
       "      <td>492</td>\n",
       "      <td>492</td>\n",
       "      <td>492</td>\n",
       "    </tr>\n",
       "  </tbody>\n",
       "</table>\n",
       "<p>2 rows × 30 columns</p>\n",
       "</div>"
      ],
      "text/plain": [
       "         Time      V1      V2      V3      V4      V5      V6      V7      V8  \\\n",
       "Class                                                                           \n",
       "0      284315  284315  284315  284315  284315  284315  284315  284315  284315   \n",
       "1         492     492     492     492     492     492     492     492     492   \n",
       "\n",
       "           V9  ...     V20     V21     V22     V23     V24     V25     V26  \\\n",
       "Class          ...                                                           \n",
       "0      284315  ...  284315  284315  284315  284315  284315  284315  284315   \n",
       "1         492  ...     492     492     492     492     492     492     492   \n",
       "\n",
       "          V27     V28  Amount  \n",
       "Class                          \n",
       "0      284315  284315  284315  \n",
       "1         492     492     492  \n",
       "\n",
       "[2 rows x 30 columns]"
      ]
     },
     "execution_count": 6,
     "metadata": {},
     "output_type": "execute_result"
    }
   ],
   "source": [
    "df.groupby(\"Class\").count() #para visualizar exatamente quantos temos de cada classe"
   ]
  },
  {
   "cell_type": "markdown",
   "id": "73bbd60d",
   "metadata": {},
   "source": [
    "Podemos ver que as classes estão bastante desbalanceadas, vamos observer isso em um gráfico para ficar mais clara essa diferença"
   ]
  },
  {
   "cell_type": "code",
   "execution_count": 7,
   "id": "dff3a60a",
   "metadata": {},
   "outputs": [
    {
     "data": {
      "image/png": "[encoded data removed]",
      "text/plain": [
       "<Figure size 640x480 with 1 Axes>"
      ]
     },
     "metadata": {},
     "output_type": "display_data"
    }
   ],
   "source": [
    "classes = df['Class'].value_counts()\n",
    "plt.bar(classes.index, classes.values)\n",
    "plt.xticks([0,1], labels=['Não fraude', 'Fraude'])\n",
    "plt.title('Balanceamento das classes')\n",
    "plt.yscale('log') # para ficar melhor a visualização da classe das fraudes decidi colocar uma escala logarítmica\n",
    "plt.show()"
   ]
  },
  {
   "cell_type": "markdown",
   "id": "da9a4112",
   "metadata": {},
   "source": [
    "# Verificando Outliers"
   ]
  },
  {
   "cell_type": "code",
   "execution_count": 8,
   "id": "33a92c25",
   "metadata": {},
   "outputs": [
    {
     "data": {
      "image/png": "[encoded data removed]",
      "text/plain": [
       "<Figure size 1000x700 with 1 Axes>"
      ]
     },
     "metadata": {},
     "output_type": "display_data"
    }
   ],
   "source": [
    "colunas = df.iloc[:,1:4]\n",
    "plt.figure(figsize=(10,7))\n",
    "colunas.boxplot()\n",
    "plt.show()"
   ]
  },
  {
   "cell_type": "markdown",
   "id": "49528a93",
   "metadata": {},
   "source": [
    "Também é possível ver uma quantidade muito grande de outliers, por conta disso decidi testar primeiro um modelo de árvore de decisão por geralmente serem mais robustos a outliers"
   ]
  },
  {
   "cell_type": "markdown",
   "id": "5b1d7b83",
   "metadata": {},
   "source": [
    "# Vou divir o dataset em treino e teste para evitar overfitting"
   ]
  },
  {
   "cell_type": "code",
   "execution_count": 9,
   "id": "29ee9cdf",
   "metadata": {},
   "outputs": [],
   "source": [
    "x = df.iloc[:,1:29]\n",
    "y = df.iloc[:,30]\n",
    "x_treino, x_teste, y_treino, y_teste = train_test_split(x,y, test_size=0.2, random_state=42)"
   ]
  },
  {
   "cell_type": "markdown",
   "id": "09c64dca",
   "metadata": {},
   "source": [
    "# Modelo ExtraTreeClassifier"
   ]
  },
  {
   "cell_type": "markdown",
   "id": "b534d9aa",
   "metadata": {},
   "source": [
    "Primeiro vamos atribuir pesos diferentes para as classes por conta do grande desbalanceamento entre elas"
   ]
  },
  {
   "cell_type": "code",
   "execution_count": 86,
   "id": "628e3fa4",
   "metadata": {},
   "outputs": [],
   "source": [
    "class_weight = {0:1, 1:600}\n",
    "# atribuimos peso 1 para a classe 0 e peso 1000 para a classe 1"
   ]
  },
  {
   "cell_type": "code",
   "execution_count": 87,
   "id": "1f5066c5",
   "metadata": {},
   "outputs": [
    {
     "data": {
      "text/html": [
       "<style>#sk-container-id-9 {color: black;background-color: white;}#sk-container-id-9 pre{padding: 0;}#sk-container-id-9 div.sk-toggleable {background-color: white;}#sk-container-id-9 label.sk-toggleable__label {cursor: pointer;display: block;width: 100%;margin-bottom: 0;padding: 0.3em;box-sizing: border-box;text-align: center;}#sk-container-id-9 label.sk-toggleable__label-arrow:before {content: \"▸\";float: left;margin-right: 0.25em;color: #696969;}#sk-container-id-9 label.sk-toggleable__label-arrow:hover:before {color: black;}#sk-container-id-9 div.sk-estimator:hover label.sk-toggleable__label-arrow:before {color: black;}#sk-container-id-9 div.sk-toggleable__content {max-height: 0;max-width: 0;overflow: hidden;text-align: left;background-color: #f0f8ff;}#sk-container-id-9 div.sk-toggleable__content pre {margin: 0.2em;color: black;border-radius: 0.25em;background-color: #f0f8ff;}#sk-container-id-9 input.sk-toggleable__control:checked~div.sk-toggleable__content {max-height: 200px;max-width: 100%;overflow: auto;}#sk-container-id-9 input.sk-toggleable__control:checked~label.sk-toggleable__label-arrow:before {content: \"▾\";}#sk-container-id-9 div.sk-estimator input.sk-toggleable__control:checked~label.sk-toggleable__label {background-color: #d4ebff;}#sk-container-id-9 div.sk-label input.sk-toggleable__control:checked~label.sk-toggleable__label {background-color: #d4ebff;}#sk-container-id-9 input.sk-hidden--visually {border: 0;clip: rect(1px 1px 1px 1px);clip: rect(1px, 1px, 1px, 1px);height: 1px;margin: -1px;overflow: hidden;padding: 0;position: absolute;width: 1px;}#sk-container-id-9 div.sk-estimator {font-family: monospace;background-color: #f0f8ff;border: 1px dotted black;border-radius: 0.25em;box-sizing: border-box;margin-bottom: 0.5em;}#sk-container-id-9 div.sk-estimator:hover {background-color: #d4ebff;}#sk-container-id-9 div.sk-parallel-item::after {content: \"\";width: 100%;border-bottom: 1px solid gray;flex-grow: 1;}#sk-container-id-9 div.sk-label:hover label.sk-toggleable__label {background-color: #d4ebff;}#sk-container-id-9 div.sk-serial::before {content: \"\";position: absolute;border-left: 1px solid gray;box-sizing: border-box;top: 0;bottom: 0;left: 50%;z-index: 0;}#sk-container-id-9 div.sk-serial {display: flex;flex-direction: column;align-items: center;background-color: white;padding-right: 0.2em;padding-left: 0.2em;position: relative;}#sk-container-id-9 div.sk-item {position: relative;z-index: 1;}#sk-container-id-9 div.sk-parallel {display: flex;align-items: stretch;justify-content: center;background-color: white;position: relative;}#sk-container-id-9 div.sk-item::before, #sk-container-id-9 div.sk-parallel-item::before {content: \"\";position: absolute;border-left: 1px solid gray;box-sizing: border-box;top: 0;bottom: 0;left: 50%;z-index: -1;}#sk-container-id-9 div.sk-parallel-item {display: flex;flex-direction: column;z-index: 1;position: relative;background-color: white;}#sk-container-id-9 div.sk-parallel-item:first-child::after {align-self: flex-end;width: 50%;}#sk-container-id-9 div.sk-parallel-item:last-child::after {align-self: flex-start;width: 50%;}#sk-container-id-9 div.sk-parallel-item:only-child::after {width: 0;}#sk-container-id-9 div.sk-dashed-wrapped {border: 1px dashed gray;margin: 0 0.4em 0.5em 0.4em;box-sizing: border-box;padding-bottom: 0.4em;background-color: white;}#sk-container-id-9 div.sk-label label {font-family: monospace;font-weight: bold;display: inline-block;line-height: 1.2em;}#sk-container-id-9 div.sk-label-container {text-align: center;}#sk-container-id-9 div.sk-container {/* jupyter's `normalize.less` sets `[hidden] { display: none; }` but bootstrap.min.css set `[hidden] { display: none !important; }` so we also need the `!important` here to be able to override the default hidden behavior on the sphinx rendered scikit-learn.org. See: https://github.com/scikit-learn/scikit-learn/issues/21755 */display: inline-block !important;position: relative;}#sk-container-id-9 div.sk-text-repr-fallback {display: none;}</style><div id=\"sk-container-id-9\" class=\"sk-top-container\"><div class=\"sk-text-repr-fallback\"><pre>ExtraTreesClassifier(class_weight={0: 1, 1: 600}, max_depth=50,\n",
       "                     min_samples_split=5, n_estimators=200, random_state=42)</pre><b>In a Jupyter environment, please rerun this cell to show the HTML representation or trust the notebook. <br />On GitHub, the HTML representation is unable to render, please try loading this page with nbviewer.org.</b></div><div class=\"sk-container\" hidden><div class=\"sk-item\"><div class=\"sk-estimator sk-toggleable\"><input class=\"sk-toggleable__control sk-hidden--visually\" id=\"sk-estimator-id-13\" type=\"checkbox\" checked><label for=\"sk-estimator-id-13\" class=\"sk-toggleable__label sk-toggleable__label-arrow\">ExtraTreesClassifier</label><div class=\"sk-toggleable__content\"><pre>ExtraTreesClassifier(class_weight={0: 1, 1: 600}, max_depth=50,\n",
       "                     min_samples_split=5, n_estimators=200, random_state=42)</pre></div></div></div></div></div>"
      ],
      "text/plain": [
       "ExtraTreesClassifier(class_weight={0: 1, 1: 600}, max_depth=50,\n",
       "                     min_samples_split=5, n_estimators=200, random_state=42)"
      ]
     },
     "execution_count": 87,
     "metadata": {},
     "output_type": "execute_result"
    }
   ],
   "source": [
    "modelo_etc = ExtraTreesClassifier(n_estimators=200, max_depth=50, min_samples_split=5, class_weight=class_weight, random_state=42)\n",
    "modelo_etc.fit(x_treino, y_treino)\n",
    "# Cheguei nesses hiperparametros após vários testes e foram os que deram o melhor resultado combinados"
   ]
  },
  {
   "cell_type": "code",
   "execution_count": 88,
   "id": "88e6472d",
   "metadata": {},
   "outputs": [],
   "source": [
    "etc_predict = modelo_etc.predict(x_teste)"
   ]
  },
  {
   "cell_type": "markdown",
   "id": "b48d0c8f",
   "metadata": {},
   "source": [
    "Verificando como o modelo se saiu com as predições"
   ]
  },
  {
   "cell_type": "code",
   "execution_count": 89,
   "id": "d6e0a29c",
   "metadata": {},
   "outputs": [],
   "source": [
    "accuracy_etc = accuracy_score(y_teste, etc_predict)"
   ]
  },
  {
   "cell_type": "markdown",
   "id": "c2f5587f",
   "metadata": {},
   "source": [
    "Como temos um dataset extremamente desbalanceado, uma accuracy alta não significa, necessáriamente, que o modelo foi bem, por isso vou calcular outras métricas para avaliar o sucesso do modelo"
   ]
  },
  {
   "cell_type": "markdown",
   "id": "ec831a7f",
   "metadata": {},
   "source": [
    "Equanto a accuracy mede a capacidade do modelo de classificar as instâncias em todas as classes, o recall indica a proporção de instâncias positivas que foram corretamente identificadas em relação ao total de positivas"
   ]
  },
  {
   "cell_type": "code",
   "execution_count": 90,
   "id": "08d6e5b1",
   "metadata": {},
   "outputs": [],
   "source": [
    "recall_etc= recall_score(y_teste, etc_predict, pos_label=1)\n",
    "# nesse caso quero avaliar a capacidade do modelo de identificar as fraudes que são o valor de classe 1"
   ]
  },
  {
   "cell_type": "markdown",
   "id": "06abd7fe",
   "metadata": {},
   "source": [
    "Outra forma de termos certeza do desempenho do modelo em relação a identificação das transações fraudulentas é fazer a validação cruzada.\n",
    "Com a validação cruzada vamos dividir o dataset em folds, usando 1 deles para treinar o modelo e os outros para testar"
   ]
  },
  {
   "cell_type": "code",
   "execution_count": 91,
   "id": "9cfe579b",
   "metadata": {},
   "outputs": [],
   "source": [
    "cross_val_etc = cross_val_score(modelo_etc, x, y, cv=5, scoring='recall')\n",
    "# nesse caso o cv=5 é a quantidade de folds usados\n",
    "# e vamos usar o recall pois queremos medir a eficiência em identificar as fraudes"
   ]
  },
  {
   "cell_type": "markdown",
   "id": "12b831a2",
   "metadata": {},
   "source": [
    "Já o f1-score é uma métrica muito usada para avaliar modelos de classificação pois ele combina o recall e a precisão do modelo"
   ]
  },
  {
   "cell_type": "code",
   "execution_count": 92,
   "id": "190f6a06",
   "metadata": {},
   "outputs": [],
   "source": [
    "f1_etc = f1_score(y_teste, etc_predict)"
   ]
  },
  {
   "cell_type": "markdown",
   "id": "faf78ebd",
   "metadata": {},
   "source": [
    "Podemos agora analisar o desempenho do modelo:"
   ]
  },
  {
   "cell_type": "code",
   "execution_count": 93,
   "id": "8dcb0b9d",
   "metadata": {},
   "outputs": [
    {
     "name": "stdout",
     "output_type": "stream",
     "text": [
      "Accuracy_etc: 99.96137776061234%\n",
      "Recall_etc: 80.61224489795919%\n",
      "Validação Cruzada: [88.88888889 79.7979798  68.36734694 80.6122449  68.36734694]%\n",
      "F1-score_etc: 87.77777777777777%\n"
     ]
    }
   ],
   "source": [
    "print(f'Accuracy_etc: {accuracy_etc*100}%')\n",
    "print(f'Recall_etc: {recall_etc*100}%')\n",
    "print(f'Validação Cruzada: {cross_val_etc*100}%')\n",
    "print(f'F1-score_etc: {f1_etc*100}%')"
   ]
  },
  {
   "cell_type": "markdown",
   "id": "8cbc2b1f",
   "metadata": {},
   "source": [
    "Ainda é possível obter resultados superiores, por isso irei testar outros modelos"
   ]
  },
  {
   "cell_type": "markdown",
   "id": "4647de04",
   "metadata": {},
   "source": [
    "# GradientBoostingClassifier"
   ]
  },
  {
   "cell_type": "markdown",
   "id": "f61f33ef",
   "metadata": {},
   "source": [
    "O GradientBoosting combina arvores de decisão em série de modo que a cada árvore é treinada para corrigir os erros da anterior, dessa forma ele é conhecido por gerar modelos mais precisos que o ExtraTreeClassifier, porém o modelo costuma demorar mais para ser treinado"
   ]
  },
  {
   "cell_type": "code",
   "execution_count": 38,
   "id": "d2436887",
   "metadata": {},
   "outputs": [],
   "source": [
    "from sklearn.ensemble import GradientBoostingClassifier\n",
    "from sklearn.utils.class_weight import compute_sample_weight # para balancear os dados"
   ]
  },
  {
   "cell_type": "code",
   "execution_count": 39,
   "id": "bc3de82a",
   "metadata": {},
   "outputs": [],
   "source": [
    "modelo_gb = GradientBoostingClassifier(n_estimators=200, learning_rate=0.1, max_depth=50, random_state=42)"
   ]
  },
  {
   "cell_type": "code",
   "execution_count": 40,
   "id": "88d138dd",
   "metadata": {},
   "outputs": [],
   "source": [
    "# calculando o sample weight para o treinamento\n",
    "sample_weight = compute_sample_weight(class_weight='balanced', y=y_treino)"
   ]
  },
  {
   "cell_type": "code",
   "execution_count": 41,
   "id": "c46bafb4",
   "metadata": {},
   "outputs": [
    {
     "data": {
      "text/html": [
       "<style>#sk-container-id-5 {color: black;background-color: white;}#sk-container-id-5 pre{padding: 0;}#sk-container-id-5 div.sk-toggleable {background-color: white;}#sk-container-id-5 label.sk-toggleable__label {cursor: pointer;display: block;width: 100%;margin-bottom: 0;padding: 0.3em;box-sizing: border-box;text-align: center;}#sk-container-id-5 label.sk-toggleable__label-arrow:before {content: \"▸\";float: left;margin-right: 0.25em;color: #696969;}#sk-container-id-5 label.sk-toggleable__label-arrow:hover:before {color: black;}#sk-container-id-5 div.sk-estimator:hover label.sk-toggleable__label-arrow:before {color: black;}#sk-container-id-5 div.sk-toggleable__content {max-height: 0;max-width: 0;overflow: hidden;text-align: left;background-color: #f0f8ff;}#sk-container-id-5 div.sk-toggleable__content pre {margin: 0.2em;color: black;border-radius: 0.25em;background-color: #f0f8ff;}#sk-container-id-5 input.sk-toggleable__control:checked~div.sk-toggleable__content {max-height: 200px;max-width: 100%;overflow: auto;}#sk-container-id-5 input.sk-toggleable__control:checked~label.sk-toggleable__label-arrow:before {content: \"▾\";}#sk-container-id-5 div.sk-estimator input.sk-toggleable__control:checked~label.sk-toggleable__label {background-color: #d4ebff;}#sk-container-id-5 div.sk-label input.sk-toggleable__control:checked~label.sk-toggleable__label {background-color: #d4ebff;}#sk-container-id-5 input.sk-hidden--visually {border: 0;clip: rect(1px 1px 1px 1px);clip: rect(1px, 1px, 1px, 1px);height: 1px;margin: -1px;overflow: hidden;padding: 0;position: absolute;width: 1px;}#sk-container-id-5 div.sk-estimator {font-family: monospace;background-color: #f0f8ff;border: 1px dotted black;border-radius: 0.25em;box-sizing: border-box;margin-bottom: 0.5em;}#sk-container-id-5 div.sk-estimator:hover {background-color: #d4ebff;}#sk-container-id-5 div.sk-parallel-item::after {content: \"\";width: 100%;border-bottom: 1px solid gray;flex-grow: 1;}#sk-container-id-5 div.sk-label:hover label.sk-toggleable__label {background-color: #d4ebff;}#sk-container-id-5 div.sk-serial::before {content: \"\";position: absolute;border-left: 1px solid gray;box-sizing: border-box;top: 0;bottom: 0;left: 50%;z-index: 0;}#sk-container-id-5 div.sk-serial {display: flex;flex-direction: column;align-items: center;background-color: white;padding-right: 0.2em;padding-left: 0.2em;position: relative;}#sk-container-id-5 div.sk-item {position: relative;z-index: 1;}#sk-container-id-5 div.sk-parallel {display: flex;align-items: stretch;justify-content: center;background-color: white;position: relative;}#sk-container-id-5 div.sk-item::before, #sk-container-id-5 div.sk-parallel-item::before {content: \"\";position: absolute;border-left: 1px solid gray;box-sizing: border-box;top: 0;bottom: 0;left: 50%;z-index: -1;}#sk-container-id-5 div.sk-parallel-item {display: flex;flex-direction: column;z-index: 1;position: relative;background-color: white;}#sk-container-id-5 div.sk-parallel-item:first-child::after {align-self: flex-end;width: 50%;}#sk-container-id-5 div.sk-parallel-item:last-child::after {align-self: flex-start;width: 50%;}#sk-container-id-5 div.sk-parallel-item:only-child::after {width: 0;}#sk-container-id-5 div.sk-dashed-wrapped {border: 1px dashed gray;margin: 0 0.4em 0.5em 0.4em;box-sizing: border-box;padding-bottom: 0.4em;background-color: white;}#sk-container-id-5 div.sk-label label {font-family: monospace;font-weight: bold;display: inline-block;line-height: 1.2em;}#sk-container-id-5 div.sk-label-container {text-align: center;}#sk-container-id-5 div.sk-container {/* jupyter's `normalize.less` sets `[hidden] { display: none; }` but bootstrap.min.css set `[hidden] { display: none !important; }` so we also need the `!important` here to be able to override the default hidden behavior on the sphinx rendered scikit-learn.org. See: https://github.com/scikit-learn/scikit-learn/issues/21755 */display: inline-block !important;position: relative;}#sk-container-id-5 div.sk-text-repr-fallback {display: none;}</style><div id=\"sk-container-id-5\" class=\"sk-top-container\"><div class=\"sk-text-repr-fallback\"><pre>GradientBoostingClassifier(max_depth=50, n_estimators=200, random_state=42)</pre><b>In a Jupyter environment, please rerun this cell to show the HTML representation or trust the notebook. <br />On GitHub, the HTML representation is unable to render, please try loading this page with nbviewer.org.</b></div><div class=\"sk-container\" hidden><div class=\"sk-item\"><div class=\"sk-estimator sk-toggleable\"><input class=\"sk-toggleable__control sk-hidden--visually\" id=\"sk-estimator-id-7\" type=\"checkbox\" checked><label for=\"sk-estimator-id-7\" class=\"sk-toggleable__label sk-toggleable__label-arrow\">GradientBoostingClassifier</label><div class=\"sk-toggleable__content\"><pre>GradientBoostingClassifier(max_depth=50, n_estimators=200, random_state=42)</pre></div></div></div></div></div>"
      ],
      "text/plain": [
       "GradientBoostingClassifier(max_depth=50, n_estimators=200, random_state=42)"
      ]
     },
     "execution_count": 41,
     "metadata": {},
     "output_type": "execute_result"
    }
   ],
   "source": [
    "# treinamento do modelo\n",
    "modelo_gb.fit(x_treino, y_treino, sample_weight=sample_weight)"
   ]
  },
  {
   "cell_type": "code",
   "execution_count": 42,
   "id": "3638124b",
   "metadata": {},
   "outputs": [],
   "source": [
    "# Teste de modelo\n",
    "gb_predict = modelo_gb.predict(x_teste)"
   ]
  },
  {
   "cell_type": "markdown",
   "id": "1854f5ef",
   "metadata": {},
   "source": [
    "Vamos calcular todas as métricas desse modelo também"
   ]
  },
  {
   "cell_type": "code",
   "execution_count": 43,
   "id": "95e80f10",
   "metadata": {},
   "outputs": [],
   "source": [
    "accuracy_gb = accuracy_score(y_teste, gb_predict)\n",
    "recall_gb = recall_score(y_teste, gb_predict, pos_label=1)\n",
    "cross_val_gb = cross_val_score(modelo_etc, x, y, cv=5, scoring='recall')\n",
    "f1_gb = f1_score(y_teste, gb_predict)"
   ]
  },
  {
   "cell_type": "markdown",
   "id": "6dc4be0d",
   "metadata": {},
   "source": [
    "Verificando o desempenho desse modelo"
   ]
  },
  {
   "cell_type": "code",
   "execution_count": 44,
   "id": "809cc01d",
   "metadata": {},
   "outputs": [
    {
     "name": "stdout",
     "output_type": "stream",
     "text": [
      "Accuracy_gb: 99.91573329588147%\n",
      "Recall_gb: 73.46938775510205%\n",
      "Validação Cruzada: [85.85858586 78.78787879 68.36734694 80.6122449  68.36734694]%\n",
      "F1-score_gb: 74.99999999999999%\n"
     ]
    }
   ],
   "source": [
    "print(f'Accuracy_gb: {accuracy_gb*100}%')\n",
    "print(f'Recall_gb: {recall_gb*100}%')\n",
    "print(f'Validação Cruzada: {cross_val_gb*100}%')\n",
    "print(f'F1-score_gb: {f1_gb*100}%')"
   ]
  },
  {
   "cell_type": "markdown",
   "id": "c447c451",
   "metadata": {},
   "source": [
    "# MLPClassifier"
   ]
  },
  {
   "cell_type": "markdown",
   "id": "9134e9f0",
   "metadata": {},
   "source": [
    "Esse modelo já é um modelo de rede neural"
   ]
  },
  {
   "cell_type": "code",
   "execution_count": 45,
   "id": "40ae9a08",
   "metadata": {},
   "outputs": [
    {
     "name": "stdout",
     "output_type": "stream",
     "text": [
      "Requirement already satisfied: imblearn in c:\\users\\marina\\anaconda3\\lib\\site-packages (0.0)\n",
      "Requirement already satisfied: imbalanced-learn in c:\\users\\marina\\anaconda3\\lib\\site-packages (from imblearn) (0.10.1)\n",
      "Requirement already satisfied: scikit-learn>=1.0.2 in c:\\users\\marina\\anaconda3\\lib\\site-packages (from imbalanced-learn->imblearn) (1.2.1)\n",
      "Requirement already satisfied: numpy>=1.17.3 in c:\\users\\marina\\anaconda3\\lib\\site-packages (from imbalanced-learn->imblearn) (1.21.5)\n",
      "Requirement already satisfied: threadpoolctl>=2.0.0 in c:\\users\\marina\\anaconda3\\lib\\site-packages (from imbalanced-learn->imblearn) (2.2.0)\n",
      "Requirement already satisfied: scipy>=1.3.2 in c:\\users\\marina\\anaconda3\\lib\\site-packages (from imbalanced-learn->imblearn) (1.9.1)\n",
      "Requirement already satisfied: joblib>=1.1.1 in c:\\users\\marina\\anaconda3\\lib\\site-packages (from imbalanced-learn->imblearn) (1.2.0)\n"
     ]
    }
   ],
   "source": [
    "!pip install imblearn"
   ]
  },
  {
   "cell_type": "markdown",
   "id": "a855e0e4",
   "metadata": {},
   "source": [
    "Para fazer o balanceamento das classes antes de treinar a rede neural, eu optei por usar uma técnica de oversampling, smote, que cria exemplos sintéticos da classe de menor quantidade"
   ]
  },
  {
   "cell_type": "code",
   "execution_count": 46,
   "id": "a880c264",
   "metadata": {},
   "outputs": [],
   "source": [
    "from sklearn.neural_network import MLPClassifier\n",
    "import numpy as np\n",
    "from sklearn.utils.class_weight import compute_class_weight\n",
    "from imblearn.over_sampling import SMOTE"
   ]
  },
  {
   "cell_type": "code",
   "execution_count": 47,
   "id": "0c55137a",
   "metadata": {},
   "outputs": [],
   "source": [
    "# criando uma instância smote\n",
    "smote=SMOTE(random_state=42)"
   ]
  },
  {
   "cell_type": "code",
   "execution_count": 48,
   "id": "2fc2c065",
   "metadata": {},
   "outputs": [],
   "source": [
    "# aplicando o smote\n",
    "x_treino_balanceado, y_treino_balanceado = smote.fit_resample(x_treino, y_treino)"
   ]
  },
  {
   "cell_type": "code",
   "execution_count": 49,
   "id": "1d7a4a0a",
   "metadata": {},
   "outputs": [
    {
     "data": {
      "text/html": [
       "<style>#sk-container-id-6 {color: black;background-color: white;}#sk-container-id-6 pre{padding: 0;}#sk-container-id-6 div.sk-toggleable {background-color: white;}#sk-container-id-6 label.sk-toggleable__label {cursor: pointer;display: block;width: 100%;margin-bottom: 0;padding: 0.3em;box-sizing: border-box;text-align: center;}#sk-container-id-6 label.sk-toggleable__label-arrow:before {content: \"▸\";float: left;margin-right: 0.25em;color: #696969;}#sk-container-id-6 label.sk-toggleable__label-arrow:hover:before {color: black;}#sk-container-id-6 div.sk-estimator:hover label.sk-toggleable__label-arrow:before {color: black;}#sk-container-id-6 div.sk-toggleable__content {max-height: 0;max-width: 0;overflow: hidden;text-align: left;background-color: #f0f8ff;}#sk-container-id-6 div.sk-toggleable__content pre {margin: 0.2em;color: black;border-radius: 0.25em;background-color: #f0f8ff;}#sk-container-id-6 input.sk-toggleable__control:checked~div.sk-toggleable__content {max-height: 200px;max-width: 100%;overflow: auto;}#sk-container-id-6 input.sk-toggleable__control:checked~label.sk-toggleable__label-arrow:before {content: \"▾\";}#sk-container-id-6 div.sk-estimator input.sk-toggleable__control:checked~label.sk-toggleable__label {background-color: #d4ebff;}#sk-container-id-6 div.sk-label input.sk-toggleable__control:checked~label.sk-toggleable__label {background-color: #d4ebff;}#sk-container-id-6 input.sk-hidden--visually {border: 0;clip: rect(1px 1px 1px 1px);clip: rect(1px, 1px, 1px, 1px);height: 1px;margin: -1px;overflow: hidden;padding: 0;position: absolute;width: 1px;}#sk-container-id-6 div.sk-estimator {font-family: monospace;background-color: #f0f8ff;border: 1px dotted black;border-radius: 0.25em;box-sizing: border-box;margin-bottom: 0.5em;}#sk-container-id-6 div.sk-estimator:hover {background-color: #d4ebff;}#sk-container-id-6 div.sk-parallel-item::after {content: \"\";width: 100%;border-bottom: 1px solid gray;flex-grow: 1;}#sk-container-id-6 div.sk-label:hover label.sk-toggleable__label {background-color: #d4ebff;}#sk-container-id-6 div.sk-serial::before {content: \"\";position: absolute;border-left: 1px solid gray;box-sizing: border-box;top: 0;bottom: 0;left: 50%;z-index: 0;}#sk-container-id-6 div.sk-serial {display: flex;flex-direction: column;align-items: center;background-color: white;padding-right: 0.2em;padding-left: 0.2em;position: relative;}#sk-container-id-6 div.sk-item {position: relative;z-index: 1;}#sk-container-id-6 div.sk-parallel {display: flex;align-items: stretch;justify-content: center;background-color: white;position: relative;}#sk-container-id-6 div.sk-item::before, #sk-container-id-6 div.sk-parallel-item::before {content: \"\";position: absolute;border-left: 1px solid gray;box-sizing: border-box;top: 0;bottom: 0;left: 50%;z-index: -1;}#sk-container-id-6 div.sk-parallel-item {display: flex;flex-direction: column;z-index: 1;position: relative;background-color: white;}#sk-container-id-6 div.sk-parallel-item:first-child::after {align-self: flex-end;width: 50%;}#sk-container-id-6 div.sk-parallel-item:last-child::after {align-self: flex-start;width: 50%;}#sk-container-id-6 div.sk-parallel-item:only-child::after {width: 0;}#sk-container-id-6 div.sk-dashed-wrapped {border: 1px dashed gray;margin: 0 0.4em 0.5em 0.4em;box-sizing: border-box;padding-bottom: 0.4em;background-color: white;}#sk-container-id-6 div.sk-label label {font-family: monospace;font-weight: bold;display: inline-block;line-height: 1.2em;}#sk-container-id-6 div.sk-label-container {text-align: center;}#sk-container-id-6 div.sk-container {/* jupyter's `normalize.less` sets `[hidden] { display: none; }` but bootstrap.min.css set `[hidden] { display: none !important; }` so we also need the `!important` here to be able to override the default hidden behavior on the sphinx rendered scikit-learn.org. See: https://github.com/scikit-learn/scikit-learn/issues/21755 */display: inline-block !important;position: relative;}#sk-container-id-6 div.sk-text-repr-fallback {display: none;}</style><div id=\"sk-container-id-6\" class=\"sk-top-container\"><div class=\"sk-text-repr-fallback\"><pre>MLPClassifier(hidden_layer_sizes=2, max_iter=1000, random_state=42)</pre><b>In a Jupyter environment, please rerun this cell to show the HTML representation or trust the notebook. <br />On GitHub, the HTML representation is unable to render, please try loading this page with nbviewer.org.</b></div><div class=\"sk-container\" hidden><div class=\"sk-item\"><div class=\"sk-estimator sk-toggleable\"><input class=\"sk-toggleable__control sk-hidden--visually\" id=\"sk-estimator-id-8\" type=\"checkbox\" checked><label for=\"sk-estimator-id-8\" class=\"sk-toggleable__label sk-toggleable__label-arrow\">MLPClassifier</label><div class=\"sk-toggleable__content\"><pre>MLPClassifier(hidden_layer_sizes=2, max_iter=1000, random_state=42)</pre></div></div></div></div></div>"
      ],
      "text/plain": [
       "MLPClassifier(hidden_layer_sizes=2, max_iter=1000, random_state=42)"
      ]
     },
     "execution_count": 49,
     "metadata": {},
     "output_type": "execute_result"
    }
   ],
   "source": [
    "modelo_mlp = MLPClassifier(hidden_layer_sizes=(2), max_iter=1000, random_state=42)\n",
    "modelo_mlp.fit(x_treino_balanceado, y_treino_balanceado)"
   ]
  },
  {
   "cell_type": "code",
   "execution_count": 50,
   "id": "d0ceef66",
   "metadata": {},
   "outputs": [],
   "source": [
    "mlp_predict = modelo_mlp.predict(x_teste)"
   ]
  },
  {
   "cell_type": "code",
   "execution_count": 51,
   "id": "be406ac0",
   "metadata": {},
   "outputs": [],
   "source": [
    "accuracy_mlp = accuracy_score(y_teste, mlp_predict)\n",
    "recall_mlp = recall_score(y_teste, mlp_predict, pos_label=1)\n",
    "cross_val_mlp = cross_val_score(modelo_mlp, x, y, cv=5, scoring='recall')\n",
    "f1_mlp = f1_score(y_teste, mlp_predict)"
   ]
  },
  {
   "cell_type": "code",
   "execution_count": 52,
   "id": "d433a945",
   "metadata": {},
   "outputs": [
    {
     "name": "stdout",
     "output_type": "stream",
     "text": [
      "Accuracy_mlp: 97.01730978547101%\n",
      "Recall_mlp: 90.81632653061224%\n",
      "Validação Cruzada: [86.86868687 83.83838384 69.3877551  85.71428571 75.51020408]%\n",
      "F1-score_mlp: 9.4832179009057%\n"
     ]
    }
   ],
   "source": [
    "print(f'Accuracy_mlp: {accuracy_mlp*100}%')\n",
    "print(f'Recall_mlp: {recall_mlp*100}%')\n",
    "print(f'Validação Cruzada: {cross_val_mlp*100}%')\n",
    "print(f'F1-score_mlp: {f1_mlp*100}%')"
   ]
  },
  {
   "cell_type": "markdown",
   "id": "87cdd056",
   "metadata": {},
   "source": [
    "O grande problema desse modelo foi justamente o F1-score muito baixo, o que pode significar que o modelo está tendo dificuldade de predição de alguma classe"
   ]
  },
  {
   "cell_type": "markdown",
   "id": "7dea713c",
   "metadata": {},
   "source": [
    "# VotingClassifier"
   ]
  },
  {
   "cell_type": "markdown",
   "id": "a2ce28d1",
   "metadata": {},
   "source": [
    "Para tentar conseguir resultados melhores, vou testar técnicas de ensemble para juntar os modelos.\n",
    "Primeiro vou utilizar uma técnica de Voting com parametro 'soft', nesse caso, cada modelo fornece uma probabilidade para cada classe e a classe com maior probabilidade é escolhida como predição final"
   ]
  },
  {
   "cell_type": "code",
   "execution_count": 94,
   "id": "c0f03e09",
   "metadata": {},
   "outputs": [],
   "source": [
    "from sklearn.ensemble import VotingClassifier"
   ]
  },
  {
   "cell_type": "code",
   "execution_count": 95,
   "id": "ddb99b6b",
   "metadata": {},
   "outputs": [],
   "source": [
    "voting = VotingClassifier(estimators=[('etc', modelo_etc), ('mlp', modelo_mlp)], voting='soft')"
   ]
  },
  {
   "cell_type": "code",
   "execution_count": 96,
   "id": "bc19b3be",
   "metadata": {},
   "outputs": [
    {
     "data": {
      "text/html": [
       "<style>#sk-container-id-10 {color: black;background-color: white;}#sk-container-id-10 pre{padding: 0;}#sk-container-id-10 div.sk-toggleable {background-color: white;}#sk-container-id-10 label.sk-toggleable__label {cursor: pointer;display: block;width: 100%;margin-bottom: 0;padding: 0.3em;box-sizing: border-box;text-align: center;}#sk-container-id-10 label.sk-toggleable__label-arrow:before {content: \"▸\";float: left;margin-right: 0.25em;color: #696969;}#sk-container-id-10 label.sk-toggleable__label-arrow:hover:before {color: black;}#sk-container-id-10 div.sk-estimator:hover label.sk-toggleable__label-arrow:before {color: black;}#sk-container-id-10 div.sk-toggleable__content {max-height: 0;max-width: 0;overflow: hidden;text-align: left;background-color: #f0f8ff;}#sk-container-id-10 div.sk-toggleable__content pre {margin: 0.2em;color: black;border-radius: 0.25em;background-color: #f0f8ff;}#sk-container-id-10 input.sk-toggleable__control:checked~div.sk-toggleable__content {max-height: 200px;max-width: 100%;overflow: auto;}#sk-container-id-10 input.sk-toggleable__control:checked~label.sk-toggleable__label-arrow:before {content: \"▾\";}#sk-container-id-10 div.sk-estimator input.sk-toggleable__control:checked~label.sk-toggleable__label {background-color: #d4ebff;}#sk-container-id-10 div.sk-label input.sk-toggleable__control:checked~label.sk-toggleable__label {background-color: #d4ebff;}#sk-container-id-10 input.sk-hidden--visually {border: 0;clip: rect(1px 1px 1px 1px);clip: rect(1px, 1px, 1px, 1px);height: 1px;margin: -1px;overflow: hidden;padding: 0;position: absolute;width: 1px;}#sk-container-id-10 div.sk-estimator {font-family: monospace;background-color: #f0f8ff;border: 1px dotted black;border-radius: 0.25em;box-sizing: border-box;margin-bottom: 0.5em;}#sk-container-id-10 div.sk-estimator:hover {background-color: #d4ebff;}#sk-container-id-10 div.sk-parallel-item::after {content: \"\";width: 100%;border-bottom: 1px solid gray;flex-grow: 1;}#sk-container-id-10 div.sk-label:hover label.sk-toggleable__label {background-color: #d4ebff;}#sk-container-id-10 div.sk-serial::before {content: \"\";position: absolute;border-left: 1px solid gray;box-sizing: border-box;top: 0;bottom: 0;left: 50%;z-index: 0;}#sk-container-id-10 div.sk-serial {display: flex;flex-direction: column;align-items: center;background-color: white;padding-right: 0.2em;padding-left: 0.2em;position: relative;}#sk-container-id-10 div.sk-item {position: relative;z-index: 1;}#sk-container-id-10 div.sk-parallel {display: flex;align-items: stretch;justify-content: center;background-color: white;position: relative;}#sk-container-id-10 div.sk-item::before, #sk-container-id-10 div.sk-parallel-item::before {content: \"\";position: absolute;border-left: 1px solid gray;box-sizing: border-box;top: 0;bottom: 0;left: 50%;z-index: -1;}#sk-container-id-10 div.sk-parallel-item {display: flex;flex-direction: column;z-index: 1;position: relative;background-color: white;}#sk-container-id-10 div.sk-parallel-item:first-child::after {align-self: flex-end;width: 50%;}#sk-container-id-10 div.sk-parallel-item:last-child::after {align-self: flex-start;width: 50%;}#sk-container-id-10 div.sk-parallel-item:only-child::after {width: 0;}#sk-container-id-10 div.sk-dashed-wrapped {border: 1px dashed gray;margin: 0 0.4em 0.5em 0.4em;box-sizing: border-box;padding-bottom: 0.4em;background-color: white;}#sk-container-id-10 div.sk-label label {font-family: monospace;font-weight: bold;display: inline-block;line-height: 1.2em;}#sk-container-id-10 div.sk-label-container {text-align: center;}#sk-container-id-10 div.sk-container {/* jupyter's `normalize.less` sets `[hidden] { display: none; }` but bootstrap.min.css set `[hidden] { display: none !important; }` so we also need the `!important` here to be able to override the default hidden behavior on the sphinx rendered scikit-learn.org. See: https://github.com/scikit-learn/scikit-learn/issues/21755 */display: inline-block !important;position: relative;}#sk-container-id-10 div.sk-text-repr-fallback {display: none;}</style><div id=\"sk-container-id-10\" class=\"sk-top-container\"><div class=\"sk-text-repr-fallback\"><pre>VotingClassifier(estimators=[(&#x27;etc&#x27;,\n",
       "                              ExtraTreesClassifier(class_weight={0: 1, 1: 600},\n",
       "                                                   max_depth=50,\n",
       "                                                   min_samples_split=5,\n",
       "                                                   n_estimators=200,\n",
       "                                                   random_state=42)),\n",
       "                             (&#x27;mlp&#x27;,\n",
       "                              MLPClassifier(hidden_layer_sizes=2, max_iter=1000,\n",
       "                                            random_state=42))],\n",
       "                 voting=&#x27;soft&#x27;)</pre><b>In a Jupyter environment, please rerun this cell to show the HTML representation or trust the notebook. <br />On GitHub, the HTML representation is unable to render, please try loading this page with nbviewer.org.</b></div><div class=\"sk-container\" hidden><div class=\"sk-item sk-dashed-wrapped\"><div class=\"sk-label-container\"><div class=\"sk-label sk-toggleable\"><input class=\"sk-toggleable__control sk-hidden--visually\" id=\"sk-estimator-id-14\" type=\"checkbox\" ><label for=\"sk-estimator-id-14\" class=\"sk-toggleable__label sk-toggleable__label-arrow\">VotingClassifier</label><div class=\"sk-toggleable__content\"><pre>VotingClassifier(estimators=[(&#x27;etc&#x27;,\n",
       "                              ExtraTreesClassifier(class_weight={0: 1, 1: 600},\n",
       "                                                   max_depth=50,\n",
       "                                                   min_samples_split=5,\n",
       "                                                   n_estimators=200,\n",
       "                                                   random_state=42)),\n",
       "                             (&#x27;mlp&#x27;,\n",
       "                              MLPClassifier(hidden_layer_sizes=2, max_iter=1000,\n",
       "                                            random_state=42))],\n",
       "                 voting=&#x27;soft&#x27;)</pre></div></div></div><div class=\"sk-parallel\"><div class=\"sk-parallel-item\"><div class=\"sk-item\"><div class=\"sk-label-container\"><div class=\"sk-label sk-toggleable\"><label>etc</label></div></div><div class=\"sk-serial\"><div class=\"sk-item\"><div class=\"sk-estimator sk-toggleable\"><input class=\"sk-toggleable__control sk-hidden--visually\" id=\"sk-estimator-id-15\" type=\"checkbox\" ><label for=\"sk-estimator-id-15\" class=\"sk-toggleable__label sk-toggleable__label-arrow\">ExtraTreesClassifier</label><div class=\"sk-toggleable__content\"><pre>ExtraTreesClassifier(class_weight={0: 1, 1: 600}, max_depth=50,\n",
       "                     min_samples_split=5, n_estimators=200, random_state=42)</pre></div></div></div></div></div></div><div class=\"sk-parallel-item\"><div class=\"sk-item\"><div class=\"sk-label-container\"><div class=\"sk-label sk-toggleable\"><label>mlp</label></div></div><div class=\"sk-serial\"><div class=\"sk-item\"><div class=\"sk-estimator sk-toggleable\"><input class=\"sk-toggleable__control sk-hidden--visually\" id=\"sk-estimator-id-16\" type=\"checkbox\" ><label for=\"sk-estimator-id-16\" class=\"sk-toggleable__label sk-toggleable__label-arrow\">MLPClassifier</label><div class=\"sk-toggleable__content\"><pre>MLPClassifier(hidden_layer_sizes=2, max_iter=1000, random_state=42)</pre></div></div></div></div></div></div></div></div></div></div>"
      ],
      "text/plain": [
       "VotingClassifier(estimators=[('etc',\n",
       "                              ExtraTreesClassifier(class_weight={0: 1, 1: 600},\n",
       "                                                   max_depth=50,\n",
       "                                                   min_samples_split=5,\n",
       "                                                   n_estimators=200,\n",
       "                                                   random_state=42)),\n",
       "                             ('mlp',\n",
       "                              MLPClassifier(hidden_layer_sizes=2, max_iter=1000,\n",
       "                                            random_state=42))],\n",
       "                 voting='soft')"
      ]
     },
     "execution_count": 96,
     "metadata": {},
     "output_type": "execute_result"
    }
   ],
   "source": [
    "voting.fit(x_treino, y_treino)"
   ]
  },
  {
   "cell_type": "code",
   "execution_count": 97,
   "id": "c5fb7df8",
   "metadata": {},
   "outputs": [],
   "source": [
    "voting_predict = voting.predict(x_teste)"
   ]
  },
  {
   "cell_type": "code",
   "execution_count": 98,
   "id": "349fb8e5",
   "metadata": {},
   "outputs": [],
   "source": [
    "accuracy_voting = accuracy_score(y_teste, voting_predict)\n",
    "recall_voting = recall_score(y_teste, voting_predict, pos_label=1)\n",
    "cross_val_voting = cross_val_score(voting, x, y, cv=5, scoring='recall')\n",
    "f1_voting = f1_score(y_teste, voting_predict)"
   ]
  },
  {
   "cell_type": "code",
   "execution_count": 99,
   "id": "74a407e0",
   "metadata": {},
   "outputs": [
    {
     "name": "stdout",
     "output_type": "stream",
     "text": [
      "Accuracy_voting: 99.9385555282469%\n",
      "Recall_voting: 79.59183673469387%\n",
      "Validação Cruzada: [86.86868687 83.83838384 68.36734694 85.71428571 75.51020408]%\n",
      "F1-score_voting: 81.67539267015708%\n"
     ]
    }
   ],
   "source": [
    "print(f'Accuracy_voting: {accuracy_voting*100}%')\n",
    "print(f'Recall_voting: {recall_voting*100}%')\n",
    "print(f'Validação Cruzada: {cross_val_voting*100}%')\n",
    "print(f'F1-score_voting: {f1_voting*100}%')"
   ]
  },
  {
   "cell_type": "markdown",
   "id": "c2eb85be",
   "metadata": {},
   "source": [
    "# Stacking"
   ]
  },
  {
   "cell_type": "markdown",
   "id": "f64420bd",
   "metadata": {},
   "source": [
    "O Stacking é um algoritmo de aprendizado de máquina em que vários modelos são treinados em um conjunto de dados e as suas saídas são usadas como entrada para um modelo de nível superior que aprende a prever o resultado final."
   ]
  },
  {
   "cell_type": "code",
   "execution_count": 100,
   "id": "003e74f5",
   "metadata": {},
   "outputs": [],
   "source": [
    "from sklearn.ensemble import StackingClassifier\n",
    "from sklearn.model_selection import cross_val_predict"
   ]
  },
  {
   "cell_type": "code",
   "execution_count": 61,
   "id": "40f30f94",
   "metadata": {},
   "outputs": [],
   "source": [
    "modelos_base=[('et', modelo_etc), ('gb', modelo_gb)]"
   ]
  },
  {
   "cell_type": "code",
   "execution_count": 62,
   "id": "528e3aa8",
   "metadata": {},
   "outputs": [],
   "source": [
    "modelo_meta = MLPClassifier(hidden_layer_sizes=(2), max_iter=1000, random_state=42)"
   ]
  },
  {
   "cell_type": "code",
   "execution_count": 63,
   "id": "bdd02fe8",
   "metadata": {},
   "outputs": [],
   "source": [
    "stacking = StackingClassifier(estimators=modelos_base, final_estimator=modelo_meta)"
   ]
  },
  {
   "cell_type": "code",
   "execution_count": 68,
   "id": "6249d55c",
   "metadata": {},
   "outputs": [],
   "source": [
    "stacking_predict = cross_val_predict(stacking, x_treino, y_treino, cv=5, method='predict_proba')"
   ]
  },
  {
   "cell_type": "code",
   "execution_count": 69,
   "id": "e75a7100",
   "metadata": {},
   "outputs": [],
   "source": [
    "stacking.fit(x_treino, y_treino)\n",
    "stacking_predict = stacking.predict(x_teste)"
   ]
  },
  {
   "cell_type": "code",
   "execution_count": null,
   "id": "79a16b44",
   "metadata": {},
   "outputs": [],
   "source": [
    "accuracy_stacking = accuracy_score(y_teste, stacking_predict)\n",
    "recall_stacking = recall_score(y_teste, stacking_predict, pos_label=1)\n",
    "cross_val_stacking = cross_val_score(stacking, x, y, cv=5, scoring='recall')\n",
    "f1_stacking = f1_score(y_teste, stacking_predict)"
   ]
  },
  {
   "cell_type": "code",
   "execution_count": null,
   "id": "4efc56f0",
   "metadata": {},
   "outputs": [],
   "source": [
    "print(f'Accuracy_stacking: {accuracy_stacking*100}%')\n",
    "print(f'Recall_stacking: {recall_stacking*100}%')\n",
    "print(f'Validação Cruzada: {cross_val_stacking*100}%')\n",
    "print(f'F1-score_stacking: {f1_stacking*100}%')  "
   ]
  },
  {
   "cell_type": "markdown",
   "id": "a4dc6c01",
   "metadata": {},
   "source": [
    "# Stacking"
   ]
  },
  {
   "cell_type": "code",
   "execution_count": 101,
   "id": "cb2983ef",
   "metadata": {},
   "outputs": [],
   "source": [
    "modelos_base1=[('et', modelo_etc), ('mlp', modelo_mlp)]"
   ]
  },
  {
   "cell_type": "code",
   "execution_count": 102,
   "id": "cf64f755",
   "metadata": {},
   "outputs": [],
   "source": [
    "modelo_meta1 = MLPClassifier(hidden_layer_sizes=(2), max_iter=1000, random_state=42)"
   ]
  },
  {
   "cell_type": "code",
   "execution_count": 103,
   "id": "63bf5994",
   "metadata": {},
   "outputs": [],
   "source": [
    "stacking1 = StackingClassifier(estimators=modelos_base, final_estimator=modelo_meta)"
   ]
  },
  {
   "cell_type": "code",
   "execution_count": 104,
   "id": "f62935fc",
   "metadata": {},
   "outputs": [],
   "source": [
    "stacking_predict1 = cross_val_predict(stacking1, x_treino, y_treino, cv=5, method='predict_proba')"
   ]
  },
  {
   "cell_type": "code",
   "execution_count": 105,
   "id": "2cd8e89d",
   "metadata": {},
   "outputs": [],
   "source": [
    "stacking1.fit(x_treino, y_treino)\n",
    "stacking_predict1 = stacking1.predict(x_teste)"
   ]
  },
  {
   "cell_type": "code",
   "execution_count": 106,
   "id": "24d6ddbb",
   "metadata": {},
   "outputs": [],
   "source": [
    "accuracy_stacking1 = accuracy_score(y_teste, stacking_predict1)\n",
    "recall_stacking1 = recall_score(y_teste, stacking_predict1, pos_label=1)\n",
    "cross_val_stacking1 = cross_val_score(stacking1, x, y, cv=5, scoring='recall')\n",
    "f1_stacking1 = f1_score(y_teste, stacking_predict1)"
   ]
  },
  {
   "cell_type": "code",
   "execution_count": 107,
   "id": "375ff9fd",
   "metadata": {},
   "outputs": [
    {
     "name": "stdout",
     "output_type": "stream",
     "text": [
      "Accuracy_stacking: 99.96137776061234%\n",
      "Recall_stacking: 79.59183673469387%\n",
      "Validação Cruzada: [77.77777778 76.76767677 63.26530612 74.48979592 61.2244898 ]%\n",
      "F1-score_stacking: 87.64044943820225%\n"
     ]
    }
   ],
   "source": [
    "print(f'Accuracy_stacking: {accuracy_stacking1*100}%')\n",
    "print(f'Recall_stacking: {recall_stacking1*100}%')\n",
    "print(f'Validação Cruzada: {cross_val_stacking1*100}%')\n",
    "print(f'F1-score_stacking: {f1_stacking1*100}%')"
   ]
  },
  {
   "cell_type": "markdown",
   "id": "4a4f7f00",
   "metadata": {},
   "source": [
    "# Conclusão"
   ]
  },
  {
   "cell_type": "markdown",
   "id": "28c86306",
   "metadata": {},
   "source": [
    "Com base nos resultados obtidos, podemos concluir que o modelo Extra Trees apresentou o melhor desempenho entre os modelos individuais. No entanto, ao utilizarmos o ensemble Stacking com os modelos Extra Trees, Gradient Boosting e MLP, conseguimos um F1-score de 81.05%.\n",
    "\n",
    "Além disso, é importante ressaltar que, para problemas de detecção de fraudes em cartões de crédito, a métrica de recall é de extrema importância. Nesse sentido, todos os modelos apresentaram um recall razoável, porém o MLP apresentou melhores resultados.\n",
    "\n",
    "Por fim, é importante destacar que a escolha do modelo e técnica de ensemble deve ser feita com base nas necessidades do problema em questão e nas métricas que se deseja maximizar. É possível que em outras bases de dados ou problemas, os resultados sejam diferentes e outros modelos ou técnicas de ensemble apresentem melhor desempenho."
   ]
  },
  {
   "cell_type": "code",
   "execution_count": null,
   "id": "60dec7e6",
   "metadata": {},
   "outputs": [],
   "source": []
  }
 ],
 "metadata": {
  "kernelspec": {
   "display_name": "Python 3 (ipykernel)",
   "language": "python",
   "name": "python3"
  },
  "language_info": {
   "codemirror_mode": {
    "name": "ipython",
    "version": 3
   },
   "file_extension": ".py",
   "mimetype": "text/x-python",
   "name": "python",
   "nbconvert_exporter": "python",
   "pygments_lexer": "ipython3",
   "version": "3.9.13"
  }
 },
 "nbformat": 4,
 "nbformat_minor": 5
}
